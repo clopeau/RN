{
 "cells": [
  {
   "cell_type": "markdown",
   "id": "virtual-travel",
   "metadata": {},
   "source": [
    "# Reconnaissance des panneaux de signalisation \n",
    "\n",
    "Vous avez entendu parler des voitures autonomes dans lesquelles le passager peut entièrement dépendre de la voiture pour voyager. Mais pour atteindre ce niveau d'autonomie, il est nécessaire que les véhicules comprennent et respectent toutes les règles de circulation et pas que...\n",
    "\n",
    "Il existe plusieurs types de panneaux de signalisation comme les limitations de vitesse, les feux de signalisation, interdiction de.., attention à..., etc.\n",
    "\n",
    "Dans ce projet, vous allez construire un modèle de réseau neuronale dit de convolution avec pour objectif de classer les panneaux de signalisation présents dans l'image dans différentes catégories. Avec ce modèle, nous devrions être capables de lire et de comprendre les panneaux de signalisation automatiquement avec un taux de réussite suffisant pour conduire en toute sécurité !\n",
    "\n",
    "## Travail :\n",
    "\n",
    "1. S'appropier les données (voir section suivante) et les décrire\n",
    "2. Mettre en place un réseau d'apprentisage (Répertoire Train) on prendra un format standart de 28x28 pour chaque image. On prendra 20% des données comme ensemble de test\n",
    "\n",
    "    a. En premier lieu avec seulement 2 classes\n",
    "    \n",
    "    b. En second lieu avec les 42 classes\n",
    "3. Tracer l'historique loss/accuracy - Analyser vos résultats d'apprentissage\n",
    "4. Dans le temps imparti... proposer, tenter d'améliorer votre résultat. \n",
    "5. A l'aide de votre meilleur modèle identifier les classes des images du répertoire Test. Générer un fichier *submit.csv* avec 2 colonnes ( \"nom\" et \"classe\") la première colone contenant le nom du fichier la seconde la classe identifiée.\n",
    "6. Déposer sur TOMUSS votre notebook (ipynb) et votre fichier submit.csv\n",
    "\n",
    "\n",
    "## Récupération des données\n",
    "\n",
    "<img src=\"https://media.istockphoto.com/photos/warning-sign-picture-id472207351?k=6&m=472207351&s=612x612&w=0&h=Xx1MPuZzrmHqwQZypgXIDst5y87afA4UBblR-No5Eqw=\" alt=\"drawing\" width=\"10%\"/> Attention ne naviguer pas sous jupyterlab dans le dossier de Dataset, il peut avoir quelques lenteur...\n"
   ]
  },
  {
   "cell_type": "code",
   "execution_count": null,
   "id": "patent-douglas",
   "metadata": {},
   "outputs": [],
   "source": [
    "!wget https://forgeim.univ-lyon1.fr/Dataset.zip"
   ]
  },
  {
   "cell_type": "code",
   "execution_count": 17,
   "id": "active-nelson",
   "metadata": {},
   "outputs": [],
   "source": [
    "!unzip -q Dataset.zip"
   ]
  },
  {
   "cell_type": "markdown",
   "id": "infinite-initial",
   "metadata": {},
   "source": [
    "### Arborescence des données :\n",
    "Le répertoire **Test** contient des images du challenge le répertoire **Train** contient les sous répertoires de classe et dedans les images."
   ]
  },
  {
   "cell_type": "code",
   "execution_count": 20,
   "id": "confirmed-stage",
   "metadata": {},
   "outputs": [
    {
     "name": "stdout",
     "output_type": "stream",
     "text": [
      "\u001b[01;34m.\u001b[0m\n",
      "└── \u001b[01;34mDataset\u001b[0m\n",
      "    ├── \u001b[01;34mTest\u001b[0m\n",
      "    └── \u001b[01;34mTrain\u001b[0m\n",
      "        ├── \u001b[01;34m0\u001b[0m\n",
      "        ├── \u001b[01;34m1\u001b[0m\n",
      "        ├── \u001b[01;34m10\u001b[0m\n",
      "        ├── \u001b[01;34m11\u001b[0m\n",
      "        ├── \u001b[01;34m12\u001b[0m\n",
      "        ├── \u001b[01;34m13\u001b[0m\n",
      "        ├── \u001b[01;34m14\u001b[0m\n",
      "        ├── \u001b[01;34m15\u001b[0m\n",
      "        ├── \u001b[01;34m16\u001b[0m\n",
      "        ├── \u001b[01;34m17\u001b[0m\n",
      "        ├── \u001b[01;34m18\u001b[0m\n",
      "        ├── \u001b[01;34m19\u001b[0m\n",
      "        ├── \u001b[01;34m2\u001b[0m\n",
      "        ├── \u001b[01;34m20\u001b[0m\n",
      "        ├── \u001b[01;34m21\u001b[0m\n",
      "        ├── \u001b[01;34m22\u001b[0m\n",
      "        ├── \u001b[01;34m23\u001b[0m\n",
      "        ├── \u001b[01;34m24\u001b[0m\n",
      "        ├── \u001b[01;34m25\u001b[0m\n",
      "        ├── \u001b[01;34m26\u001b[0m\n",
      "        ├── \u001b[01;34m27\u001b[0m\n",
      "        ├── \u001b[01;34m28\u001b[0m\n",
      "        ├── \u001b[01;34m29\u001b[0m\n",
      "        ├── \u001b[01;34m3\u001b[0m\n",
      "        ├── \u001b[01;34m30\u001b[0m\n",
      "        ├── \u001b[01;34m31\u001b[0m\n",
      "        ├── \u001b[01;34m32\u001b[0m\n",
      "        ├── \u001b[01;34m33\u001b[0m\n",
      "        ├── \u001b[01;34m34\u001b[0m\n",
      "        ├── \u001b[01;34m35\u001b[0m\n",
      "        ├── \u001b[01;34m36\u001b[0m\n",
      "        ├── \u001b[01;34m37\u001b[0m\n",
      "        ├── \u001b[01;34m38\u001b[0m\n",
      "        ├── \u001b[01;34m39\u001b[0m\n",
      "        ├── \u001b[01;34m4\u001b[0m\n",
      "        ├── \u001b[01;34m40\u001b[0m\n",
      "        ├── \u001b[01;34m41\u001b[0m\n",
      "        ├── \u001b[01;34m42\u001b[0m\n",
      "        ├── \u001b[01;34m5\u001b[0m\n",
      "        ├── \u001b[01;34m6\u001b[0m\n",
      "        ├── \u001b[01;34m7\u001b[0m\n",
      "        ├── \u001b[01;34m8\u001b[0m\n",
      "        └── \u001b[01;34m9\u001b[0m\n",
      "\n",
      "46 directories\n"
     ]
    }
   ],
   "source": [
    "!tree -d"
   ]
  },
  {
   "cell_type": "markdown",
   "id": "differential-letters",
   "metadata": {},
   "source": [
    "# A vous de jouer !"
   ]
  },
  {
   "cell_type": "code",
   "execution_count": null,
   "id": "mobile-sound",
   "metadata": {},
   "outputs": [],
   "source": []
  }
 ],
 "metadata": {
  "kernelspec": {
   "display_name": "Python 3",
   "language": "python",
   "name": "python3"
  },
  "language_info": {
   "codemirror_mode": {
    "name": "ipython",
    "version": 3
   },
   "file_extension": ".py",
   "mimetype": "text/x-python",
   "name": "python",
   "nbconvert_exporter": "python",
   "pygments_lexer": "ipython3",
   "version": "3.8.7"
  }
 },
 "nbformat": 4,
 "nbformat_minor": 5
}
